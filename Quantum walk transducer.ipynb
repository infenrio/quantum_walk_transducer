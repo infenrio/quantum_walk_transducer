{
 "cells": [
  {
   "cell_type": "markdown",
   "id": "123b9261",
   "metadata": {},
   "source": [
    "<h3>Short introduction</h3>\n",
    "\n",
    "Algorithm works on a bipartite graph and checks, whether the graph contains a marked vertex (or marked vertices). If there is at least one marked vertex, the final output should be 0. If there are no marked vertices, output should be 1.\n",
    "\n",
    "<h3>Parameters</h3>\n",
    "\n",
    "Here we provide parameters.\n",
    "\n",
    "qubits_per_side denotes the number of qubits to represent a single vertex, a vertex is represented by a basis state. Each side of a graph can have up to $2^{qubits\\_per\\_side}$ vertices with this representation. Basis states in our implementation will represent edges of the graph, as a quantum walk is performed on edges. State $xxxyyy$ represents the edge, that connects vertex $xxx$ on the left side with the vertex $yyy$ on the right side of the graph.\n",
    "\n",
    "We use a counter to perform necessary repetitions of main quantum operation. Number of repetitions is $2^{qubits\\_for\\_k}$. Counter uses qubits_for_k many qubits.\n",
    "\n",
    "marked_in_A is a set of marked vertices in the left side of the graph.\n",
    "\n",
    "marked_in_B is a set of marked vertices in the right side of the graph. We use basis state 11...1 to represent added virtual vertex that serves for initial probability distribution. For techical simplification of implementation, we denote this vertex as marked so that operator that corresponds to this vertex will be Identity, making it not affecting the walk for real edges of our graph.\n",
    "\n",
    "edges represent all edges of our graph. $xxx111$ represent edges that correspond to initial probability distribution. The numbers that correspond to the edges are weights."
   ]
  },
  {
   "cell_type": "code",
   "execution_count": 5,
   "id": "9d7c134d",
   "metadata": {},
   "outputs": [],
   "source": [
    "from math import sqrt\n",
    "import numpy as np\n",
    "qubits_per_side = 3\n",
    "qubits_for_k = 3\n",
    "\n",
    "marked_in_A = []\n",
    "marked_in_B = ['111'] #always have 11...1 in B as marked for implementation simplification."
   ]
  },
  {
   "cell_type": "code",
   "execution_count": 6,
   "id": "5bf0e096",
   "metadata": {},
   "outputs": [],
   "source": [
    "edges={\n",
    "    '000111' : 1/3,\n",
    "    '001111' : 2/3,\n",
    "    '000000' : 1/2,\n",
    "    '000001' : 1/2,\n",
    "    '001000' : 1/2,\n",
    "    '001001' : 1/2,\n",
    "    '010000' : 1/2,\n",
    "    '010001' : 1/2,\n",
    "}"
   ]
  },
  {
   "cell_type": "markdown",
   "id": "9035ad6a",
   "metadata": {},
   "source": [
    "<h3>Preparing data structures that store lists of vertices and their adjacent edges</h3>"
   ]
  },
  {
   "cell_type": "code",
   "execution_count": 7,
   "id": "7995d26f",
   "metadata": {},
   "outputs": [],
   "source": [
    "ones_state = ''\n",
    "for i in range(qubits_per_side):\n",
    "    ones_state = ones_state + '1'\n",
    "\n",
    "def get_set_A():\n",
    "    keysList = list(edges.keys())\n",
    "    setA = []\n",
    "    for i in (keysList):\n",
    "        setA.append(i[:qubits_per_side])\n",
    "    setA = set(setA)\n",
    "    return setA\n",
    "\n",
    "def get_set_B():\n",
    "    keysList = list(edges.keys())\n",
    "    setB = []\n",
    "    for i in (keysList):\n",
    "        setB.append(i[-qubits_per_side:])\n",
    "    setB = set(setB)\n",
    "    setB.remove(ones_state)\n",
    "    return setB\n",
    "    \n",
    "setA = get_set_A()\n",
    "setB = get_set_B()"
   ]
  },
  {
   "cell_type": "code",
   "execution_count": 8,
   "id": "96fa8e4f",
   "metadata": {},
   "outputs": [
    {
     "name": "stdout",
     "output_type": "stream",
     "text": [
      "Edges adjacent to vertices of set A: {'010': ['010000', '010001'], '000': ['000111', '000000', '000001'], '001': ['001111', '001000', '001001']}\n",
      "Edges adjacent to vertices of set B: {'000': ['000000', '001000', '010000'], '001': ['000001', '001001', '010001']}\n"
     ]
    }
   ],
   "source": [
    "def get_edges_of_A():\n",
    "    edgesOfA = {}\n",
    "    for vertex in setA:\n",
    "        listOfEdges = []\n",
    "        #dangling_edge = vertex + ones_state\n",
    "        for edge in edges:\n",
    "            if(edge[:qubits_per_side] == vertex):\n",
    "                listOfEdges.append(edge)\n",
    "            #if(edge == dangling_edge):\n",
    "            #    listOfEdges.append(edge)\n",
    "        edgesOfA.update({vertex : listOfEdges})\n",
    "    return edgesOfA\n",
    "\n",
    "edges_of_A = get_edges_of_A()\n",
    "\n",
    "def get_edges_of_B():\n",
    "    edgesOfB = {}\n",
    "    for vertex in setB:\n",
    "        listOfEdges = []\n",
    "        for edge in edges:\n",
    "            if(edge[-qubits_per_side:] == vertex):\n",
    "                if(edge[:qubits_per_side] != ones_state):\n",
    "                    listOfEdges.append(edge)\n",
    "        edgesOfB.update({vertex : listOfEdges})\n",
    "    return edgesOfB\n",
    "\n",
    "edges_of_B = get_edges_of_B()\n",
    "\n",
    "print('Edges adjacent to vertices of set A:',edges_of_A)\n",
    "print('Edges adjacent to vertices of set B:',edges_of_B)"
   ]
  },
  {
   "cell_type": "markdown",
   "id": "85994785",
   "metadata": {},
   "source": [
    "<h3>Preparation of state $\\xi$</h3>"
   ]
  },
  {
   "cell_type": "code",
   "execution_count": 9,
   "id": "a7fb0c57",
   "metadata": {},
   "outputs": [
    {
     "data": {
      "image/png": "[encoded data removed]",
      "text/plain": [
       "<Figure size 568.197x385.28 with 1 Axes>"
      ]
     },
     "execution_count": 9,
     "metadata": {},
     "output_type": "execute_result"
    }
   ],
   "source": [
    "from math import sqrt\n",
    "\n",
    "edges_states = {}\n",
    "format_string = '0' + str(qubits_per_side) + 'b'\n",
    "for i in range(2**qubits_per_side):\n",
    "    edges_states.update({format(i, format_string) : 0})\n",
    "for vertex in edges_of_A:\n",
    "    for edge in edges_of_A[vertex]:\n",
    "        if(edge[-qubits_per_side:] == ones_state):\n",
    "            edges_states.update({edge[:qubits_per_side] : sqrt(edges[edge])})\n",
    "\n",
    "desired_vector = []\n",
    "for i in range(2**qubits_per_side):\n",
    "    desired_vector.append(edges_states[format(i, format_string)])\n",
    "\n",
    "from qiskit import QuantumRegister, ClassicalRegister, QuantumCircuit, execute, Aer, transpile\n",
    "from math import pi, sqrt\n",
    "qc = QuantumCircuit(qubits_per_side)\n",
    "\n",
    "qc.initialize(desired_vector)\n",
    "qc2 = qc.decompose().decompose().decompose().decompose().decompose().decompose()\n",
    "qc2 = transpile(qc2, optimization_level=1)\n",
    "\n",
    "xi = QuantumCircuit(2*qubits_per_side)\n",
    "for i in range(qubits_per_side):\n",
    "    xi.x(i)\n",
    "states_for_qc2 = []\n",
    "for i in range(qubits_per_side):\n",
    "    states_for_qc2.append(qubits_per_side+i)\n",
    "xi = xi.compose(qc2,states_for_qc2)\n",
    "\n",
    "xi.draw(output='mpl')"
   ]
  },
  {
   "cell_type": "markdown",
   "id": "72511a3d",
   "metadata": {},
   "source": [
    "<h3>Circuit, that adds +1 to time register</h3>"
   ]
  },
  {
   "cell_type": "code",
   "execution_count": 10,
   "id": "45302cdf",
   "metadata": {},
   "outputs": [
    {
     "data": {
      "image/png": "[encoded data removed]",
      "text/plain": [
       "<Figure size 267.197x204.68 with 1 Axes>"
      ]
     },
     "execution_count": 10,
     "metadata": {},
     "output_type": "execute_result"
    }
   ],
   "source": [
    "import qiskit\n",
    "\n",
    "from qiskit import execute, Aer\n",
    "\n",
    "from math import pi\n",
    "\n",
    "plus1_adder = qiskit.QuantumCircuit(qubits_for_k)\n",
    "\n",
    "for i in range(qubits_for_k-1,1,-1):\n",
    "    control = []\n",
    "    for j in range(i-1,-1,-1):\n",
    "        control.append(j)\n",
    "    plus1_adder.mct(control,i)\n",
    "plus1_adder.cx(0,1)\n",
    "plus1_adder.x(0)\n",
    "\n",
    "plus1_adder.draw(output='mpl')"
   ]
  },
  {
   "cell_type": "markdown",
   "id": "5f167ba0",
   "metadata": {},
   "source": [
    "<h3>Implementation of $R_BR_A$</h3>"
   ]
  },
  {
   "cell_type": "code",
   "execution_count": 11,
   "id": "0a5a2a00",
   "metadata": {},
   "outputs": [],
   "source": [
    "from qiskit import QuantumRegister, ClassicalRegister, QuantumCircuit, execute, Aer\n",
    "from math import pi, sqrt\n",
    "\n",
    "identity_minus_state_zero = QuantumCircuit(2*qubits_per_side)\n",
    "control_qubits = []\n",
    "for i in range(2*qubits_per_side-1):\n",
    "    control_qubits.append(i)\n",
    "\n",
    "for i in range(2*qubits_per_side):\n",
    "    identity_minus_state_zero.x(i)\n",
    "\n",
    "identity_minus_state_zero.h(2*qubits_per_side-1)\n",
    "identity_minus_state_zero.mct(control_qubits, 2*qubits_per_side-1)\n",
    "identity_minus_state_zero.h(2*qubits_per_side-1)\n",
    "\n",
    "for i in range(2*qubits_per_side):\n",
    "    identity_minus_state_zero.x(i)\n",
    "\n",
    "r={}\n",
    "format_string = '0' + str(2*qubits_per_side) + 'b'\n",
    "for vertex in edges_of_A:\n",
    "    total_sum = 0\n",
    "    for edge in edges_of_A[vertex]:\n",
    "        total_sum = total_sum + edges[edge]\n",
    "    desired_vector = []\n",
    "    for i in range(2**(2*qubits_per_side)):\n",
    "        index = format(i, format_string)\n",
    "        if index in edges_of_A[vertex]:\n",
    "            desired_vector.append(sqrt(edges[index]/total_sum))\n",
    "        else:\n",
    "            desired_vector.append(0)\n",
    "    qc = QuantumCircuit(2*qubits_per_side)\n",
    "    qc.initialize(desired_vector)\n",
    "    qc2 = qc.decompose().decompose().decompose().decompose().decompose().decompose().decompose().decompose().decompose()\n",
    "    qc2 = transpile(qc2, optimization_level=1)\n",
    "    r[vertex] = QuantumCircuit(2*qubits_per_side)\n",
    "    r[vertex] = r[vertex].compose(qc2.inverse())\n",
    "    r[vertex] = r[vertex].compose(identity_minus_state_zero)\n",
    "    r[vertex] = r[vertex].compose(qc2)\n",
    "r_a = QuantumCircuit(2*qubits_per_side)\n",
    "for vertex in edges_of_A:\n",
    "    if vertex not in marked_in_A:\n",
    "        r_a = r_a.compose(r[vertex])\n",
    "\n",
    "r={}\n",
    "for vertex in edges_of_B:\n",
    "    total_sum = 0\n",
    "    for edge in edges_of_B[vertex]:\n",
    "        total_sum = total_sum + edges[edge]\n",
    "    desired_vector = []\n",
    "    for i in range(2**(2*qubits_per_side)):\n",
    "        index = format(i, format_string)\n",
    "        if index in edges_of_B[vertex]:\n",
    "            desired_vector.append(sqrt(edges[index]/total_sum))\n",
    "        else:\n",
    "            desired_vector.append(0)\n",
    "    qc = QuantumCircuit(2*qubits_per_side)\n",
    "    qc.initialize(desired_vector)\n",
    "    qc2 = qc.decompose().decompose().decompose().decompose().decompose().decompose().decompose().decompose().decompose()\n",
    "    qc2 = transpile(qc2, optimization_level=1)\n",
    "    r[vertex] = QuantumCircuit(2*qubits_per_side)\n",
    "    r[vertex] = r[vertex].compose(qc2.inverse())\n",
    "    r[vertex] = r[vertex].compose(identity_minus_state_zero)\n",
    "    r[vertex] = r[vertex].compose(qc2)\n",
    "r_b = QuantumCircuit(2*qubits_per_side)\n",
    "for vertex in edges_of_B:\n",
    "    if vertex not in marked_in_B:\n",
    "        r_b = r_b.compose(r[vertex])\n",
    "        \n",
    "rbra = r_a\n",
    "rbra = rbra.compose(r_b)"
   ]
  },
  {
   "cell_type": "markdown",
   "id": "08157109",
   "metadata": {},
   "source": [
    "<h3>Implementation of main operation</h3>\n",
    "\n",
    "Here we implement a circuit that represents all iterations of the algorithm. In one iteration, we apply R_B R_A and operator that increases counter by +1. In total there are $2^{qubits\\_for\\_k}$ iterations."
   ]
  },
  {
   "cell_type": "code",
   "execution_count": 12,
   "id": "9809f5b3",
   "metadata": {},
   "outputs": [],
   "source": [
    "from qiskit import QuantumRegister, ClassicalRegister, QuantumCircuit, execute, Aer, transpile\n",
    "from math import pi, sqrt\n",
    "algorithm_circuit = QuantumCircuit(qubits_for_k+2*qubits_per_side)\n",
    "\n",
    "plus1_adder_qubits = []\n",
    "for i in range(qubits_per_side):\n",
    "    plus1_adder_qubits.append(i)\n",
    "for i in range(qubits_for_k):\n",
    "    plus1_adder_qubits.append(2*qubits_per_side+i)\n",
    "\n",
    "for i in range(2**qubits_for_k):\n",
    "    algorithm_circuit = algorithm_circuit.compose(rbra)\n",
    "    algorithm_circuit = algorithm_circuit.compose(plus1_adder.control(3), plus1_adder_qubits)"
   ]
  },
  {
   "cell_type": "markdown",
   "id": "83bdc265",
   "metadata": {},
   "source": [
    "<h3>Initial state of the system</h3>\n",
    "\n",
    "Here we initialize state for edges of the graph and also intialize counter in a superposition."
   ]
  },
  {
   "cell_type": "code",
   "execution_count": 13,
   "id": "367b3705",
   "metadata": {},
   "outputs": [],
   "source": [
    "from qiskit import QuantumRegister, ClassicalRegister, QuantumCircuit, execute, Aer, transpile\n",
    "from math import pi, sqrt\n",
    "initial_state = QuantumCircuit(qubits_for_k+2*qubits_per_side)\n",
    "\n",
    "for i in range(qubits_for_k):\n",
    "    initial_state.h(2*qubits_per_side+i)\n",
    "initial_state = initial_state.compose(xi)"
   ]
  },
  {
   "cell_type": "markdown",
   "id": "357f74a0",
   "metadata": {},
   "source": [
    "<h3>Final circuit</h3>\n",
    "\n",
    "We add a qubit and perform small version of Phase estimation to distinguish between states $\\xi$ and $-\\xi$."
   ]
  },
  {
   "cell_type": "code",
   "execution_count": 14,
   "id": "aa885dea",
   "metadata": {},
   "outputs": [
    {
     "name": "stdout",
     "output_type": "stream",
     "text": [
      "{'1': 3684, '0': 6316}\n"
     ]
    },
    {
     "data": {
      "image/png": "[encoded data removed]",
      "text/plain": [
       "<Figure size 869.197x686.28 with 1 Axes>"
      ]
     },
     "execution_count": 14,
     "metadata": {},
     "output_type": "execute_result"
    }
   ],
   "source": [
    "from qiskit import QuantumRegister, ClassicalRegister, QuantumCircuit, execute, Aer, transpile\n",
    "from math import pi, sqrt\n",
    "final_circuit = QuantumCircuit(qubits_for_k+2*qubits_per_side+1,1)\n",
    "\n",
    "final_circuit = final_circuit.compose(initial_state)\n",
    "final_circuit.h(qubits_for_k+2*qubits_per_side)\n",
    "\n",
    "qubits_for_algorithm = []\n",
    "qubits_for_algorithm.append(qubits_for_k+2*qubits_per_side)\n",
    "for i in range(qubits_for_k+2*qubits_per_side):\n",
    "    qubits_for_algorithm.append(i)\n",
    "    \n",
    "final_circuit = final_circuit.compose(algorithm_circuit.control(1), qubits_for_algorithm)\n",
    "\n",
    "final_circuit.h(qubits_for_k+2*qubits_per_side)\n",
    "\n",
    "final_circuit.measure(qubits_for_k+2*qubits_per_side, 0)\n",
    "\n",
    "job = execute(final_circuit,Aer.get_backend('qasm_simulator'),shots=10000)\n",
    "counts = job.result().get_counts(final_circuit)\n",
    "print(counts)\n",
    "\n",
    "final_circuit.draw(output='mpl')"
   ]
  },
  {
   "cell_type": "code",
   "execution_count": null,
   "id": "b701c441",
   "metadata": {},
   "outputs": [],
   "source": []
  }
 ],
 "metadata": {
  "kernelspec": {
   "display_name": "Python 3",
   "language": "python",
   "name": "python3"
  },
  "language_info": {
   "codemirror_mode": {
    "name": "ipython",
    "version": 3
   },
   "file_extension": ".py",
   "mimetype": "text/x-python",
   "name": "python",
   "nbconvert_exporter": "python",
   "pygments_lexer": "ipython3",
   "version": "3.8.8"
  }
 },
 "nbformat": 4,
 "nbformat_minor": 5
}
